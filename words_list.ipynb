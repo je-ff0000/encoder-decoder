{
 "cells": [
  {
   "cell_type": "code",
   "execution_count": 2,
   "id": "fa23a3fb-9a42-4ee8-a869-86b51a146fef",
   "metadata": {
    "collapsed": true,
    "jupyter": {
     "outputs_hidden": true
    },
    "tags": []
   },
   "outputs": [
    {
     "name": "stdout",
     "output_type": "stream",
     "text": [
      "['likes', 'baby', 'place', 'art', 'cold', 'of', 'options', 'hug', 'where', 'k', 'pledge', 'born', 'food', 'bar', 'near', 'nephew', 'fourth', 'freedom', 'r', 'host', 'snowy', 'flower', 'airplanes', 'fall', 'golf', 'hurricane', 'understand', 'soccer', 'ball', 'glasses', 'investigate', 'shirt', 'electronics', 'corn', 'each', 'six', 'cell', 'recipe', 'bad', 'rainy', 'v', 'healthy', 'job', 'visit', 'new', 'chase', 'movies', 'send', 'vacation', 'coach', 'ten', 'sandwich', 'singing', 'factory', 'camp', 'adoption', 'plant', 'clean', 'ride', 'grill', 'that', 'become', 'yes', 'excited', 'rain', 'small', 'butterfly', 'wrist', 'five', 'deer', 'one', 'workshop', 'before', 'milk', 'to', 'bake', 'abraham', 'fog', 'want', 'oldest', 'librarian', 'ago', 'pencils', 'delicious', 'own', 'like', 'players', 'eagle', 'energy', 'guitar', 'we', 'write', 'siblings', 'vision', 'college', 'white', 'basketball', 'strong', 'for', 'hair', 'active', 'cakes', 'pour', 'boy', 'santa', 'around', 'independence', 'author', 'frogs', 'chemistry', 'thin', 'year', 'paper', 'house', 'happen', 'history', 'have', 'prefer', 'girlfriends', 'question', 'flowers', 'pop', 'girlfriend', 'salt', 'tornado', 'soup', 'pear', 'theater', 'red', 'lonely', 'yellow', 'squirrel', 'boring', 'feed', 'h', 'chip', 'live', 'put', 'gray', 'envelope', 'education', 'carve', 'today', 'me', 'flop', 'american', 'smell', 'auto', 'bike', 'up', 'turtles', 'poetry', 'colorful', 'buy', 'floor', 'country', 'teacher', 'forecast', 'car', 'photographs', 'shave', 'play', 'plaid', 'sugar', 'hearing', 'good', 'engineering', 'hit', 'dirty', 'religion', 'self', 'ba', 'workplace', 'biking', 'loud', 'meb', 'prepare', 'quit', 'daughter', 'unplug', 'next', 'candle', 'horses', 'tennis', 'tuna', 'trouble', 'shelter', 'snack', 'brown', 'kindness', 'typing', 'aunt', 'birds', 'library', 'them', 'stamp', 'lives', 'improvement', 'happy', 'thanksgiving', 'loves', 'cob', 'build', 'dollar', 'throw', 'funny', 'interpreter', 'not', 'algebra', 'gum', 'mentor', 'broke', 'plumbing', 'autumn', 'tom', 'eye', 'telephone', 'plan', 'kiss', 'tiger', 'morning', 'bacon', 'skated', 'umbrella', 'complete', 'rob', 'word', 'fish', 'armed', 'support', 'much', 'sweetheart', 'who', 'grow', 'heard', 'cheese', 'recently', 'add', 'o', 'receptionist', 'afraid', 'phone', 'always', 'desk', 'price', 'building', 'monkey', 'camera', 'go', 'p', 'pasta', 'no', 'freezing', 'pond', 'more', 'cat', 'pencil', 'pumpkins', 'runner', 'coffee', 'trees', 'heart', 'dictionary', 'climb', 'black', 'lot', 'children', 'give', 'join', 'clips', 'sick', 'grammar', 'our', 'grandfather', 'pm', 'don', 'bedroom', 'outdoors', 'laundry', 'president', 'nothing', 'front', 'wish', 'nurse', 'father', 'swap', 'hiding', 'skate', 'get', 'mind', 'ducks', 'problems', 'meat', 'outside', 'ocean', 'radio', 'nice', 'my', 'order', 'there', 'little', 'forward', 'gave', 'hunt', 'hard', 'husband', 's', 'social', 'cheerleader', 'arrive', 'pirate', 'toss', 'c', 'hate', 'old', 't', 'mother', 'italian', 'thank', 'potato', 'homemade', 'salad', 'sister', 'turn', 'donuts', 'vice', 'sisters', 'what', 'her', 'his', 'christmas', 'anything', 'ring', 'snowman', 'on', 'mechanic', 'deaf', 'handshake', 'senior', 'amazing', 'least', 'drink', 'come', 'cuddle', 'looks', 'cream', 'requires', 'cook', 'breakfast', 'ticket', 'hear', 'most', 'share', 'sew', 'indian', 'terrible', 'repeat', 'clarify', 'baseball', 'out', 'deliver', 'guard', 'why', 'years', 'anthem', 'moment', 'tomorrow', 'g', 'party', 'surf', 'relationship', 'lessons', 'weather', 'laugh', 'lion', 'weddings', 'will', 'can', 'doesn', 'as', 'read', 'n', 'class', 'cookies', 'over', 'whales', 'wedding', 'raccoons', 'window', 'which', 'detectives', 'hawaii', 'practice', 'babies', 'the', 'left', 'stuck', 'counselor', 'bed', 'tuesday', 'skateboard', 'kind', 'hand', 'encourage', 'chef', 'hamburger', 'saturday', 'wake', 'a', 'help', 'equals', 'tales', 'pennies', 'security', 'kettle', 'encouraged', 'family', 'please', 'girl', 'national', 'when', 'uncle', 'diabetes', 'night', 'b', 'work', 'cow', 'slow', 'cloudy', 'thread', 'mosquitos', 'writing', 'birthday', 'candy', 'law', 'farm', 'medicine', 'crackers', 'swim', 'neighbor', 'green', 'attitude', 'several', 'fake', 'breath', 'in', 'dislike', 'nursing', 'computer', 'aquarium', 'finish', 'success', 'tv', 'soon', 'honest', 'california', 'l', 'motorcycles', 'pizza', 'first', 'pig', 'picture', 'forget', 'busy', 'halloween', 'elevator', 'bread', 'degree', 'butterflies', 'dogs', 'peaches', 'asleep', 'tooth', 'peanuts', 'dan', 'yoga', 'restaurant', 'man', 'look', 'e', 'sunny', 'needs', 'fun', 'school', 'tonight', 'herself', 'movie', 'balls', 'bowling', 'toast', 'archery', 'roller', 'cherry', 'popcorn', 'office', 'same', 'biology', 'shake', 'camping', 'store', 'purple', 'peace', 'bought', 'simple', 'got', 'grandmother', 'bank', 'raining', 'dance', 'shopping', 'your', 'pet', 'than', 'early', 'gallaudet', 'sprinkle', 'cake', 'ready', 'takes', 'friendly', 'month', 'friend', 'kindergarten', 'take', 'dentist', 'long', 'alike', 'cereal', 'beard', 'chicago', 'cards', 'great', 'last', 'name', 'less', 'spaghetti', 'story', 'd', 'blue', 'mom', 'backup', 'microwave', 'bicycle', 'competition', 'pounds', 'song', 'oatmeal', 'us', 'right', 'windy', 'better', 'spring', 'shiny', 'appointment', 'books', 'telephones', 'tree', 'hat', 'eat', 'hates', 'many', 'two', 'took', 'eggs', 'machine', 'egg', 'snow', 'ugly', 'everybody', 'thrifty', 'champ', 'winter', 'mile', 'bridge', 'chosen', 'sam', 'scary', 'pajamas', 'celebration', 'ice', 'picnic', 'pink', 'days', 'technology', 'exercise', 'rose', 'together', 'big', 'math', 'starts', 'glass', 'mustache', 'run', 'had', 'expensive', 'pretty', 'watermelon', 'dream', 'chew', 'rainbow', 'bright', 'invite', 'all', 'wife', 'y', 'psychology', 'time', 'know', 'gift', 'need', 'meet', 'u', 'community', 'football', 'grandma', 'sewing', 'bye', 'love', 'joke', 'health', 'matter', 'high', 'geometry', 'lightning', 'down', 'bring', 'interpreting', 'popular', 'brush', 'still', 'ideas', 'strawberry', 'season', 'third', 'mental', 'train', 'game', 'sweet', 'pie', 'sock', 'cousins', 'games', 'thief', 'plus', 'm', 'parents', 'straw', 'other', 'team', 'opposite', 'chocolate', 'garden', 'tea', 'wonderful', 'best', 'but', 'brother', 'walk', 'tomato', 'piano', 'you', 'flip', 'friday', 'inside', 'character', 'free', 'grandparents', 'dessert', 'enjoy', 'constitution', 'lincoln', 'at', 'idea', 'teach', 'everyday', 'doctor', 'sit', 'welcome', 'their', 'she', 'spiders', 'bear', 'turkeys', 'learn', 'forces', 'how', 'color', 'watch', 'boyfriend', 'it', 'dairy', 'mailman', 'believe', 'world', 'people', 'yesterday', 'sports', 'summer', 'dress', 'about', 'fishing', 'water', 'alligators', 'sport', 'music', 'ski', 'try', 'broccoli', 'sentence', 'apple', 'plays', 'workers', 'too', 'goal', 'any', 'museum', 'beautiful', 'cars', 'age', 'allergic', 'none', 'scout', 'stress', 'science', 'farmer', 'warm', 'equality', 'lucky', 'hispanic', 'day', 'homework', 'students', 'another', 'wrong', 'coke', 'hire', 'pepsi', 'accidentally', 'bob', 'easter', 'productive', 'animal', 'business', 'wrote', 'wilderness', 'fire', 'compliment', 'frog', 'has', 'friends', 'drive', 'goes', 'pigs', 'memorial', 'make', 'records', 'week', 'club', 'crime', 'special', 'this', 'shortcut', 'absurd', 'silly', 'i', 'caught', 'now', 'moon', 'university', 'couple', 'both', 'dog', 'fast', 'meeting', 'answer', 'appropriate', 'refreshment', 'wash', 'important', 'preserve', 'expert', 'think', 'voice', 'tie', 'goals', 'lunch', 'conversation', 'with', 'lost', 'cheeseburger', 'weekend', 'vegetable', 'monday', 'turkey', 'see', 'bakes', 'do', 'weigh', 'everywhere', 'cup', 'book', 'every', 'files', 'favorite', 'mechanics', 'he', 'room', 'type', 'whale', 'quote', 'saw', 'newspaper', 'plans', 'person', 'cart', 'athlete', 'wear', 'everyone', 'scouts', 'offer', 'awkward', 'teeth', 'son', 'different', 'gold', 'woods', 'supposed', 'soft', 'mouse', 'famous', 'honesty', 'police', 'blueberry', 'develops', 'candles', 'bag', 'ingredients', 'process', 'allow', 'could', 'if', 'lighthouse', 'find', 'should', 'save', 'hands', 'form', 'personalities', 'niece', 'lately', 'volunteer', 'duck', 'english', 'thunder', 'use', 'twice', 'bath', 'citizen', 'cats', 'kids', 'orange', 'dad', 'bicycles', 'geography', 'sorry', 'young', 'kim', 'collect', 'start', 'project', 'dinner', 'hot']\n"
     ]
    }
   ],
   "source": [
    "import csv\n",
    "import re\n",
    "\n",
    "def extract_words(sentence):\n",
    "    # Use regular expression to extract words\n",
    "    words = re.findall(r'\\b[a-zA-Z]+\\b', sentence.lower())\n",
    "    return words\n",
    "\n",
    "def main(csv_file):\n",
    "    unique_words = set()  # Set to store unique words\n",
    "    \n",
    "    # Read CSV file\n",
    "    with open(csv_file, 'r', newline='', encoding='utf-8') as file:\n",
    "        reader = csv.reader(file)\n",
    "        for row in reader:\n",
    "            sentence = row[0]  # Assuming sentences are in the first column\n",
    "            words = extract_words(sentence)\n",
    "            unique_words.update(words)\n",
    "\n",
    "    # Convert set to list\n",
    "    unique_words_list = list(unique_words)\n",
    "    \n",
    "    return unique_words_list\n",
    "\n",
    "if __name__ == \"__main__\":\n",
    "    csv_file = 'target_sentences.csv'  # Change this to the path of your CSV file\n",
    "    unique_words_list = main(csv_file)\n",
    "    print(unique_words_list)\n",
    "    \n"
   ]
  },
  {
   "cell_type": "code",
   "execution_count": 4,
   "id": "6adbc3e8-1f15-4f71-b5d5-9256bbd49976",
   "metadata": {
    "tags": []
   },
   "outputs": [
    {
     "name": "stdout",
     "output_type": "stream",
     "text": [
      "872\n"
     ]
    }
   ],
   "source": [
    "print(len(unique_words_list))"
   ]
  }
 ],
 "metadata": {
  "kernelspec": {
   "display_name": "encoddecod",
   "language": "python",
   "name": "encoddecod"
  },
  "language_info": {
   "codemirror_mode": {
    "name": "ipython",
    "version": 3
   },
   "file_extension": ".py",
   "mimetype": "text/x-python",
   "name": "python",
   "nbconvert_exporter": "python",
   "pygments_lexer": "ipython3",
   "version": "3.10.11"
  }
 },
 "nbformat": 4,
 "nbformat_minor": 5
}
