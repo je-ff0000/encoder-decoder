{
 "cells": [
  {
   "cell_type": "code",
   "execution_count": 2,
   "id": "590198c6",
   "metadata": {},
   "outputs": [
    {
     "name": "stdout",
     "output_type": "stream",
     "text": [
      "Collecting pyttsx3Note: you may need to restart the kernel to use updated packages.\n",
      "\n",
      "  Using cached pyttsx3-2.90-py3-none-any.whl (39 kB)\n",
      "Requirement already satisfied: pywin32 in d:\\users\\annro\\anaconda3\\lib\\site-packages (from pyttsx3) (305.1)\n",
      "Collecting pypiwin32\n",
      "  Using cached pypiwin32-223-py3-none-any.whl (1.7 kB)\n",
      "Collecting comtypes\n",
      "  Using cached comtypes-1.3.1-py3-none-any.whl (197 kB)\n",
      "Installing collected packages: comtypes, pypiwin32, pyttsx3\n",
      "Successfully installed comtypes-1.3.1 pypiwin32-223 pyttsx3-2.90\n"
     ]
    }
   ],
   "source": [
    "pip install pyttsx3"
   ]
  },
  {
   "cell_type": "code",
   "execution_count": 1,
   "id": "6d779a45",
   "metadata": {},
   "outputs": [],
   "source": [
    "import speech_recognition\n",
    "import pyttsx3\n"
   ]
  },
  {
   "cell_type": "code",
   "execution_count": 2,
   "id": "0d3dbb73",
   "metadata": {},
   "outputs": [
    {
     "name": "stdout",
     "output_type": "stream",
     "text": [
      "Say Something\n",
      "Recognized hello how are you\n",
      "Say Something\n",
      "Recognized my name is anupa\n",
      "Say Something\n",
      "Recognized my name is and rose\n",
      "Say Something\n",
      "Recognized ok bye\n",
      "Say Something\n",
      "Recognized my name is jeff mathew\n",
      "Say Something\n",
      "Say Something\n",
      "Recognized my name is shraddha\n",
      "Say Something\n",
      "Recognized ok bye good night\n",
      "Say Something\n",
      "Recognized i hate you bike\n",
      "Say Something\n",
      "Say Something\n"
     ]
    },
    {
     "ename": "KeyboardInterrupt",
     "evalue": "",
     "output_type": "error",
     "traceback": [
      "\u001b[1;31m---------------------------------------------------------------------------\u001b[0m",
      "\u001b[1;31mKeyboardInterrupt\u001b[0m                         Traceback (most recent call last)",
      "Cell \u001b[1;32mIn[2], line 5\u001b[0m\n\u001b[0;32m      3\u001b[0m \u001b[38;5;28;01mwhile\u001b[39;00m \u001b[38;5;28;01mTrue\u001b[39;00m:\n\u001b[0;32m      4\u001b[0m     \u001b[38;5;28;01mtry\u001b[39;00m:\n\u001b[1;32m----> 5\u001b[0m         \u001b[38;5;28;01mwith\u001b[39;00m \u001b[43mspeech_recognition\u001b[49m\u001b[38;5;241;43m.\u001b[39;49m\u001b[43mMicrophone\u001b[49m\u001b[43m(\u001b[49m\u001b[43m)\u001b[49m \u001b[38;5;28;01mas\u001b[39;00m mic:\n\u001b[0;32m      6\u001b[0m             recognizer\u001b[38;5;241m.\u001b[39madjust_for_ambient_noise(mic, duration\u001b[38;5;241m=\u001b[39m\u001b[38;5;241m0.2\u001b[39m)\n\u001b[0;32m      8\u001b[0m             \u001b[38;5;28mprint\u001b[39m(\u001b[38;5;124m\"\u001b[39m\u001b[38;5;124mSay Something\u001b[39m\u001b[38;5;124m\"\u001b[39m)\n",
      "File \u001b[1;32m~\\anaconda3\\lib\\site-packages\\speech_recognition\\__init__.py:81\u001b[0m, in \u001b[0;36mMicrophone.__init__\u001b[1;34m(self, device_index, sample_rate, chunk_size)\u001b[0m\n\u001b[0;32m     79\u001b[0m \u001b[38;5;66;03m# set up PyAudio\u001b[39;00m\n\u001b[0;32m     80\u001b[0m \u001b[38;5;28mself\u001b[39m\u001b[38;5;241m.\u001b[39mpyaudio_module \u001b[38;5;241m=\u001b[39m \u001b[38;5;28mself\u001b[39m\u001b[38;5;241m.\u001b[39mget_pyaudio()\n\u001b[1;32m---> 81\u001b[0m audio \u001b[38;5;241m=\u001b[39m \u001b[38;5;28;43mself\u001b[39;49m\u001b[38;5;241;43m.\u001b[39;49m\u001b[43mpyaudio_module\u001b[49m\u001b[38;5;241;43m.\u001b[39;49m\u001b[43mPyAudio\u001b[49m\u001b[43m(\u001b[49m\u001b[43m)\u001b[49m\n\u001b[0;32m     82\u001b[0m \u001b[38;5;28;01mtry\u001b[39;00m:\n\u001b[0;32m     83\u001b[0m     count \u001b[38;5;241m=\u001b[39m audio\u001b[38;5;241m.\u001b[39mget_device_count()  \u001b[38;5;66;03m# obtain device count\u001b[39;00m\n",
      "File \u001b[1;32m~\\anaconda3\\lib\\site-packages\\pyaudio\\__init__.py:591\u001b[0m, in \u001b[0;36mPyAudio.__init__\u001b[1;34m(self)\u001b[0m\n\u001b[0;32m    589\u001b[0m \u001b[38;5;28;01mdef\u001b[39;00m \u001b[38;5;21m__init__\u001b[39m(\u001b[38;5;28mself\u001b[39m):\n\u001b[0;32m    590\u001b[0m     \u001b[38;5;124;03m\"\"\"Initialize PortAudio.\"\"\"\u001b[39;00m\n\u001b[1;32m--> 591\u001b[0m     \u001b[43mpa\u001b[49m\u001b[38;5;241;43m.\u001b[39;49m\u001b[43minitialize\u001b[49m\u001b[43m(\u001b[49m\u001b[43m)\u001b[49m\n\u001b[0;32m    592\u001b[0m     \u001b[38;5;28mself\u001b[39m\u001b[38;5;241m.\u001b[39m_streams \u001b[38;5;241m=\u001b[39m \u001b[38;5;28mset\u001b[39m()\n",
      "\u001b[1;31mKeyboardInterrupt\u001b[0m: "
     ]
    }
   ],
   "source": [
    "recognizer = speech_recognition.Recognizer()\n",
    "\n",
    "while True:\n",
    "    try:\n",
    "        with speech_recognition.Microphone() as mic:\n",
    "            recognizer.adjust_for_ambient_noise(mic, duration=0.2)\n",
    "            \n",
    "            print(\"Say Something\")\n",
    "            audio = recognizer.listen(mic)\n",
    "            \n",
    "            \n",
    "            text = recognizer.recognize_google(audio)\n",
    "            text = text.lower()\n",
    "\n",
    "            print(f\"Recognized {text}\")\n",
    "\n",
    "    except speech_recognition.UnknownValueError:\n",
    "#         recognizer = speech_recognition.Recognizer()\n",
    "        continue"
   ]
  },
  {
   "cell_type": "code",
   "execution_count": null,
   "id": "672698b5",
   "metadata": {},
   "outputs": [],
   "source": []
  }
 ],
 "metadata": {
  "kernelspec": {
   "display_name": "Python 3 (ipykernel)",
   "language": "python",
   "name": "python3"
  },
  "language_info": {
   "codemirror_mode": {
    "name": "ipython",
    "version": 3
   },
   "file_extension": ".py",
   "mimetype": "text/x-python",
   "name": "python",
   "nbconvert_exporter": "python",
   "pygments_lexer": "ipython3",
   "version": "3.10.9"
  }
 },
 "nbformat": 4,
 "nbformat_minor": 5
}
